{
 "cells": [
  {
   "cell_type": "code",
   "execution_count": 209,
   "metadata": {
    "collapsed": true
   },
   "outputs": [],
   "source": [
    "import pandas as pd\n",
    "import numpy as np"
   ]
  },
  {
   "cell_type": "code",
   "execution_count": 210,
   "metadata": {
    "collapsed": false,
    "scrolled": true
   },
   "outputs": [],
   "source": [
    "media=pd.read_csv('media-comedy.csv', encoding = \"ISO-8859-1\")\n",
    "del media['Unnamed: 0']\n",
    "media=media.dropna(subset=['imdb rating', 'cast', 'netflix rating'])"
   ]
  },
  {
   "cell_type": "code",
   "execution_count": 211,
   "metadata": {
    "collapsed": false
   },
   "outputs": [
    {
     "data": {
      "text/html": [
       "<div>\n",
       "<table border=\"1\" class=\"dataframe\">\n",
       "  <thead>\n",
       "    <tr style=\"text-align: right;\">\n",
       "      <th></th>\n",
       "      <th>title</th>\n",
       "      <th>cast</th>\n",
       "      <th>certificate</th>\n",
       "      <th>date added</th>\n",
       "      <th>description</th>\n",
       "      <th>director</th>\n",
       "      <th>duration</th>\n",
       "      <th>episode length</th>\n",
       "      <th>genre</th>\n",
       "      <th>imdb rating</th>\n",
       "      <th>imdb_url</th>\n",
       "      <th>img_src</th>\n",
       "      <th>netflix rating</th>\n",
       "      <th>year</th>\n",
       "    </tr>\n",
       "  </thead>\n",
       "  <tbody>\n",
       "    <tr>\n",
       "      <th>0</th>\n",
       "      <td>10 Rules for Sleeping Around</td>\n",
       "      <td>Jesse Bradford, Tammin Sursok, Chris Marquette...</td>\n",
       "      <td>R</td>\n",
       "      <td>Unknown Date</td>\n",
       "      <td>An engaged couple gets some advice on staying ...</td>\n",
       "      <td>Leslie Greif</td>\n",
       "      <td>1hr 34m</td>\n",
       "      <td>NaN</td>\n",
       "      <td>Independent Comedies, Late Night Comedies, Rom...</td>\n",
       "      <td>3.7/10</td>\n",
       "      <td>http://www.imdb.com/title/tt1993391/</td>\n",
       "      <td>https://art-s.nflximg.net/1431c/b848e0ad24ce00...</td>\n",
       "      <td>2.7/5</td>\n",
       "      <td>2013</td>\n",
       "    </tr>\n",
       "    <tr>\n",
       "      <th>1</th>\n",
       "      <td>12 Dates of Christmas</td>\n",
       "      <td>Amy Smart, Mark-Paul Gosselaar, Jayne Eastwood...</td>\n",
       "      <td>TV-PG</td>\n",
       "      <td>Unknown Date</td>\n",
       "      <td>Set up on a blind date with handsome Miles on ...</td>\n",
       "      <td>James Hayman</td>\n",
       "      <td>1hr 26m</td>\n",
       "      <td>NaN</td>\n",
       "      <td>Romantic Comedies, Comedies, Romantic Films</td>\n",
       "      <td>6.3/10</td>\n",
       "      <td>http://www.imdb.com/title/tt1846442/</td>\n",
       "      <td>https://art-s.nflximg.net/1d0c0/af6c7181c603a2...</td>\n",
       "      <td>3.9/5</td>\n",
       "      <td>2011</td>\n",
       "    </tr>\n",
       "    <tr>\n",
       "      <th>2</th>\n",
       "      <td>13 Going on 30</td>\n",
       "      <td>Jennifer Garner, Mark Ruffalo, Judy Greer, And...</td>\n",
       "      <td>PG-13</td>\n",
       "      <td>Unknown Date</td>\n",
       "      <td>When a geeky teen's birthday party goes awry a...</td>\n",
       "      <td>Gary Winick</td>\n",
       "      <td>1hr 37m</td>\n",
       "      <td>NaN</td>\n",
       "      <td>Romantic Comedies, Comedies, Romantic Films</td>\n",
       "      <td>6.1/10</td>\n",
       "      <td>http://www.imdb.com/title/tt0337563/</td>\n",
       "      <td>https://art-s.nflximg.net/5a872/0c5ed075f2873c...</td>\n",
       "      <td>3.6/5</td>\n",
       "      <td>2004</td>\n",
       "    </tr>\n",
       "    <tr>\n",
       "      <th>3</th>\n",
       "      <td>16-Love</td>\n",
       "      <td>Lindsey Shaw, Chandler Massey, Keith Coulouris...</td>\n",
       "      <td>PG</td>\n",
       "      <td>Unknown Date</td>\n",
       "      <td>A teen tennis phenom whose life is wrapped up ...</td>\n",
       "      <td>Adam Lipsius</td>\n",
       "      <td>1hr 28m</td>\n",
       "      <td>NaN</td>\n",
       "      <td>Sports Films, Sports Comedies, Family Features...</td>\n",
       "      <td>5.8/10</td>\n",
       "      <td>http://www.imdb.com/title/tt1663673/</td>\n",
       "      <td>https://art-s.nflximg.net/bda18/5462674525c1eb...</td>\n",
       "      <td>3.8/5</td>\n",
       "      <td>2012</td>\n",
       "    </tr>\n",
       "    <tr>\n",
       "      <th>4</th>\n",
       "      <td>2 Days in New York</td>\n",
       "      <td>Julie Delpy, Chris Rock, Albert Delpy, Alexia ...</td>\n",
       "      <td>R</td>\n",
       "      <td>Unknown Date</td>\n",
       "      <td>Marion and Mingus go from perfect domesticity ...</td>\n",
       "      <td>Julie Delpy</td>\n",
       "      <td>1hr 35m</td>\n",
       "      <td>NaN</td>\n",
       "      <td>International Comedies, Independent Comedies, ...</td>\n",
       "      <td>6/10</td>\n",
       "      <td>http://www.imdb.com/title/tt1602472/</td>\n",
       "      <td>https://art-s.nflximg.net/d56db/12a2a8a139ccd2...</td>\n",
       "      <td>3.2/5</td>\n",
       "      <td>2012</td>\n",
       "    </tr>\n",
       "  </tbody>\n",
       "</table>\n",
       "</div>"
      ],
      "text/plain": [
       "                           title  \\\n",
       "0  10 Rules for Sleeping Around    \n",
       "1         12 Dates of Christmas    \n",
       "2                13 Going on 30    \n",
       "3                       16-Love    \n",
       "4            2 Days in New York    \n",
       "\n",
       "                                                cast certificate  \\\n",
       "0  Jesse Bradford, Tammin Sursok, Chris Marquette...           R   \n",
       "1  Amy Smart, Mark-Paul Gosselaar, Jayne Eastwood...       TV-PG   \n",
       "2  Jennifer Garner, Mark Ruffalo, Judy Greer, And...       PG-13   \n",
       "3  Lindsey Shaw, Chandler Massey, Keith Coulouris...          PG   \n",
       "4  Julie Delpy, Chris Rock, Albert Delpy, Alexia ...           R   \n",
       "\n",
       "                 date added  \\\n",
       "0  Unknown Date               \n",
       "1  Unknown Date               \n",
       "2  Unknown Date               \n",
       "3  Unknown Date               \n",
       "4  Unknown Date               \n",
       "\n",
       "                                         description      director duration  \\\n",
       "0  An engaged couple gets some advice on staying ...  Leslie Greif  1hr 34m   \n",
       "1  Set up on a blind date with handsome Miles on ...  James Hayman  1hr 26m   \n",
       "2  When a geeky teen's birthday party goes awry a...   Gary Winick  1hr 37m   \n",
       "3  A teen tennis phenom whose life is wrapped up ...  Adam Lipsius  1hr 28m   \n",
       "4  Marion and Mingus go from perfect domesticity ...   Julie Delpy  1hr 35m   \n",
       "\n",
       "  episode length                                              genre  \\\n",
       "0            NaN  Independent Comedies, Late Night Comedies, Rom...   \n",
       "1            NaN        Romantic Comedies, Comedies, Romantic Films   \n",
       "2            NaN        Romantic Comedies, Comedies, Romantic Films   \n",
       "3            NaN  Sports Films, Sports Comedies, Family Features...   \n",
       "4            NaN  International Comedies, Independent Comedies, ...   \n",
       "\n",
       "  imdb rating                              imdb_url  \\\n",
       "0      3.7/10  http://www.imdb.com/title/tt1993391/   \n",
       "1      6.3/10  http://www.imdb.com/title/tt1846442/   \n",
       "2      6.1/10  http://www.imdb.com/title/tt0337563/   \n",
       "3      5.8/10  http://www.imdb.com/title/tt1663673/   \n",
       "4        6/10  http://www.imdb.com/title/tt1602472/   \n",
       "\n",
       "                                             img_src netflix rating  year  \n",
       "0  https://art-s.nflximg.net/1431c/b848e0ad24ce00...          2.7/5  2013  \n",
       "1  https://art-s.nflximg.net/1d0c0/af6c7181c603a2...          3.9/5  2011  \n",
       "2  https://art-s.nflximg.net/5a872/0c5ed075f2873c...          3.6/5  2004  \n",
       "3  https://art-s.nflximg.net/bda18/5462674525c1eb...          3.8/5  2012  \n",
       "4  https://art-s.nflximg.net/d56db/12a2a8a139ccd2...          3.2/5  2012  "
      ]
     },
     "execution_count": 211,
     "metadata": {},
     "output_type": "execute_result"
    }
   ],
   "source": [
    "media.head()"
   ]
  },
  {
   "cell_type": "code",
   "execution_count": 212,
   "metadata": {
    "collapsed": false
   },
   "outputs": [
    {
     "name": "stdout",
     "output_type": "stream",
     "text": [
      "http://www.imdb.com/title/tt4418280/\n",
      "http://www.imdb.com/title/tt1234858/\n",
      "http://www.imdb.com/title/tt2342539/\n",
      "http://www.imdb.com/title/tt4333546/\n",
      "http://www.imdb.com/title/tt1836176/\n",
      "http://www.imdb.com/title/tt1725978/\n",
      "http://www.imdb.com/title/tt4707050/\n",
      "http://www.imdb.com/title/tt3701578/\n",
      "http://www.imdb.com/title/tt4648564/\n",
      "http://www.imdb.com/title/tt2296849/\n",
      "http://www.imdb.com/title/tt3240270/\n",
      "http://www.imdb.com/title/tt3714712/\n",
      "http://www.imdb.com/title/tt4630404/\n",
      "http://www.imdb.com/title/tt1676152/\n",
      "http://www.imdb.com/title/tt3078870/\n",
      "http://www.imdb.com/title/tt4674588/\n",
      "http://www.imdb.com/title/tt0137266/\n",
      "http://www.imdb.com/title/tt3562370/\n"
     ]
    }
   ],
   "source": [
    "def proc_rating(rating):\n",
    "    try:\n",
    "        num, denom= rating.split('/')\n",
    "    except:\n",
    "        print(rating)\n",
    "        return 0.\n",
    "    num=float(num)\n",
    "    denom=float(denom)\n",
    "    return num/denom\n",
    "media['imdb rating']=media['imdb rating'].apply(proc_rating)\n",
    "media['netflix rating']=media['netflix rating'].apply(proc_rating)\n"
   ]
  },
  {
   "cell_type": "code",
   "execution_count": 213,
   "metadata": {
    "collapsed": false
   },
   "outputs": [
    {
     "data": {
      "text/plain": [
       "231"
      ]
     },
     "execution_count": 213,
     "metadata": {},
     "output_type": "execute_result"
    }
   ],
   "source": [
    "movies=media[(~media['certificate'].str.contains('TV')) & (pd.isnull(media['episode length']))]\n",
    "del movies['episode length']\n",
    "tv=media[(media['certificate'].str.contains('TV')) | ~(pd.isnull(media['episode length']))]\n",
    "len(tv)"
   ]
  },
  {
   "cell_type": "code",
   "execution_count": 215,
   "metadata": {
    "collapsed": false
   },
   "outputs": [
    {
     "data": {
      "text/html": [
       "<div>\n",
       "<table border=\"1\" class=\"dataframe\">\n",
       "  <thead>\n",
       "    <tr style=\"text-align: right;\">\n",
       "      <th></th>\n",
       "      <th>title</th>\n",
       "      <th>cast</th>\n",
       "      <th>certificate</th>\n",
       "      <th>date added</th>\n",
       "      <th>description</th>\n",
       "      <th>director</th>\n",
       "      <th>duration</th>\n",
       "      <th>genre</th>\n",
       "      <th>imdb rating</th>\n",
       "      <th>imdb_url</th>\n",
       "      <th>img_src</th>\n",
       "      <th>netflix rating</th>\n",
       "      <th>year</th>\n",
       "    </tr>\n",
       "  </thead>\n",
       "  <tbody>\n",
       "    <tr>\n",
       "      <th>0</th>\n",
       "      <td>10 Rules for Sleeping Around</td>\n",
       "      <td>Jesse Bradford, Tammin Sursok, Chris Marquette...</td>\n",
       "      <td>R</td>\n",
       "      <td>Unknown Date</td>\n",
       "      <td>An engaged couple gets some advice on staying ...</td>\n",
       "      <td>Leslie Greif</td>\n",
       "      <td>1hr 34m</td>\n",
       "      <td>Independent Comedies, Late Night Comedies, Rom...</td>\n",
       "      <td>0.37</td>\n",
       "      <td>http://www.imdb.com/title/tt1993391/</td>\n",
       "      <td>https://art-s.nflximg.net/1431c/b848e0ad24ce00...</td>\n",
       "      <td>0.54</td>\n",
       "      <td>2013</td>\n",
       "    </tr>\n",
       "    <tr>\n",
       "      <th>2</th>\n",
       "      <td>13 Going on 30</td>\n",
       "      <td>Jennifer Garner, Mark Ruffalo, Judy Greer, And...</td>\n",
       "      <td>PG-13</td>\n",
       "      <td>Unknown Date</td>\n",
       "      <td>When a geeky teen's birthday party goes awry a...</td>\n",
       "      <td>Gary Winick</td>\n",
       "      <td>1hr 37m</td>\n",
       "      <td>Romantic Comedies, Comedies, Romantic Films</td>\n",
       "      <td>0.61</td>\n",
       "      <td>http://www.imdb.com/title/tt0337563/</td>\n",
       "      <td>https://art-s.nflximg.net/5a872/0c5ed075f2873c...</td>\n",
       "      <td>0.72</td>\n",
       "      <td>2004</td>\n",
       "    </tr>\n",
       "    <tr>\n",
       "      <th>3</th>\n",
       "      <td>16-Love</td>\n",
       "      <td>Lindsey Shaw, Chandler Massey, Keith Coulouris...</td>\n",
       "      <td>PG</td>\n",
       "      <td>Unknown Date</td>\n",
       "      <td>A teen tennis phenom whose life is wrapped up ...</td>\n",
       "      <td>Adam Lipsius</td>\n",
       "      <td>1hr 28m</td>\n",
       "      <td>Sports Films, Sports Comedies, Family Features...</td>\n",
       "      <td>0.58</td>\n",
       "      <td>http://www.imdb.com/title/tt1663673/</td>\n",
       "      <td>https://art-s.nflximg.net/bda18/5462674525c1eb...</td>\n",
       "      <td>0.76</td>\n",
       "      <td>2012</td>\n",
       "    </tr>\n",
       "    <tr>\n",
       "      <th>4</th>\n",
       "      <td>2 Days in New York</td>\n",
       "      <td>Julie Delpy, Chris Rock, Albert Delpy, Alexia ...</td>\n",
       "      <td>R</td>\n",
       "      <td>Unknown Date</td>\n",
       "      <td>Marion and Mingus go from perfect domesticity ...</td>\n",
       "      <td>Julie Delpy</td>\n",
       "      <td>1hr 35m</td>\n",
       "      <td>International Comedies, Independent Comedies, ...</td>\n",
       "      <td>0.60</td>\n",
       "      <td>http://www.imdb.com/title/tt1602472/</td>\n",
       "      <td>https://art-s.nflximg.net/d56db/12a2a8a139ccd2...</td>\n",
       "      <td>0.64</td>\n",
       "      <td>2012</td>\n",
       "    </tr>\n",
       "    <tr>\n",
       "      <th>5</th>\n",
       "      <td>3 Days in Havana</td>\n",
       "      <td>Phyllida Law, Don McKellar, Gil Bellows, Chris...</td>\n",
       "      <td>NR</td>\n",
       "      <td>13th April 2016</td>\n",
       "      <td>When he befriends a shady writer during a trip...</td>\n",
       "      <td>Gil Bellows, Tony Pantages</td>\n",
       "      <td>1hr 22m</td>\n",
       "      <td>Dark Comedies, Dramas, Comedies</td>\n",
       "      <td>0.58</td>\n",
       "      <td>http://www.imdb.com/title/tt1842371/</td>\n",
       "      <td>https://art-s.nflximg.net/ffc8e/b8d87939602ab0...</td>\n",
       "      <td>0.62</td>\n",
       "      <td>2013</td>\n",
       "    </tr>\n",
       "  </tbody>\n",
       "</table>\n",
       "</div>"
      ],
      "text/plain": [
       "                           title  \\\n",
       "0  10 Rules for Sleeping Around    \n",
       "2                13 Going on 30    \n",
       "3                       16-Love    \n",
       "4            2 Days in New York    \n",
       "5              3 Days in Havana    \n",
       "\n",
       "                                                cast certificate  \\\n",
       "0  Jesse Bradford, Tammin Sursok, Chris Marquette...           R   \n",
       "2  Jennifer Garner, Mark Ruffalo, Judy Greer, And...       PG-13   \n",
       "3  Lindsey Shaw, Chandler Massey, Keith Coulouris...          PG   \n",
       "4  Julie Delpy, Chris Rock, Albert Delpy, Alexia ...           R   \n",
       "5  Phyllida Law, Don McKellar, Gil Bellows, Chris...          NR   \n",
       "\n",
       "                    date added  \\\n",
       "0     Unknown Date               \n",
       "2     Unknown Date               \n",
       "3     Unknown Date               \n",
       "4     Unknown Date               \n",
       "5  13th April 2016               \n",
       "\n",
       "                                         description  \\\n",
       "0  An engaged couple gets some advice on staying ...   \n",
       "2  When a geeky teen's birthday party goes awry a...   \n",
       "3  A teen tennis phenom whose life is wrapped up ...   \n",
       "4  Marion and Mingus go from perfect domesticity ...   \n",
       "5  When he befriends a shady writer during a trip...   \n",
       "\n",
       "                     director duration  \\\n",
       "0                Leslie Greif  1hr 34m   \n",
       "2                 Gary Winick  1hr 37m   \n",
       "3                Adam Lipsius  1hr 28m   \n",
       "4                 Julie Delpy  1hr 35m   \n",
       "5  Gil Bellows, Tony Pantages  1hr 22m   \n",
       "\n",
       "                                               genre  imdb rating  \\\n",
       "0  Independent Comedies, Late Night Comedies, Rom...         0.37   \n",
       "2        Romantic Comedies, Comedies, Romantic Films         0.61   \n",
       "3  Sports Films, Sports Comedies, Family Features...         0.58   \n",
       "4  International Comedies, Independent Comedies, ...         0.60   \n",
       "5                    Dark Comedies, Dramas, Comedies         0.58   \n",
       "\n",
       "                               imdb_url  \\\n",
       "0  http://www.imdb.com/title/tt1993391/   \n",
       "2  http://www.imdb.com/title/tt0337563/   \n",
       "3  http://www.imdb.com/title/tt1663673/   \n",
       "4  http://www.imdb.com/title/tt1602472/   \n",
       "5  http://www.imdb.com/title/tt1842371/   \n",
       "\n",
       "                                             img_src  netflix rating  year  \n",
       "0  https://art-s.nflximg.net/1431c/b848e0ad24ce00...            0.54  2013  \n",
       "2  https://art-s.nflximg.net/5a872/0c5ed075f2873c...            0.72  2004  \n",
       "3  https://art-s.nflximg.net/bda18/5462674525c1eb...            0.76  2012  \n",
       "4  https://art-s.nflximg.net/d56db/12a2a8a139ccd2...            0.64  2012  \n",
       "5  https://art-s.nflximg.net/ffc8e/b8d87939602ab0...            0.62  2013  "
      ]
     },
     "execution_count": 215,
     "metadata": {},
     "output_type": "execute_result"
    }
   ],
   "source": [
    "movies.head()"
   ]
  },
  {
   "cell_type": "code",
   "execution_count": 216,
   "metadata": {
    "collapsed": false
   },
   "outputs": [
    {
     "data": {
      "text/html": [
       "<div>\n",
       "<table border=\"1\" class=\"dataframe\">\n",
       "  <thead>\n",
       "    <tr style=\"text-align: right;\">\n",
       "      <th></th>\n",
       "      <th>title</th>\n",
       "      <th>cast</th>\n",
       "      <th>certificate</th>\n",
       "      <th>date added</th>\n",
       "      <th>description</th>\n",
       "      <th>director</th>\n",
       "      <th>duration</th>\n",
       "      <th>episode length</th>\n",
       "      <th>genre</th>\n",
       "      <th>imdb rating</th>\n",
       "      <th>imdb_url</th>\n",
       "      <th>img_src</th>\n",
       "      <th>netflix rating</th>\n",
       "      <th>year</th>\n",
       "    </tr>\n",
       "  </thead>\n",
       "  <tbody>\n",
       "    <tr>\n",
       "      <th>1</th>\n",
       "      <td>12 Dates of Christmas</td>\n",
       "      <td>Amy Smart, Mark-Paul Gosselaar, Jayne Eastwood...</td>\n",
       "      <td>TV-PG</td>\n",
       "      <td>Unknown Date</td>\n",
       "      <td>Set up on a blind date with handsome Miles on ...</td>\n",
       "      <td>James Hayman</td>\n",
       "      <td>1hr 26m</td>\n",
       "      <td>NaN</td>\n",
       "      <td>Romantic Comedies, Comedies, Romantic Films</td>\n",
       "      <td>0.63</td>\n",
       "      <td>http://www.imdb.com/title/tt1846442/</td>\n",
       "      <td>https://art-s.nflximg.net/1d0c0/af6c7181c603a2...</td>\n",
       "      <td>0.78</td>\n",
       "      <td>2011</td>\n",
       "    </tr>\n",
       "    <tr>\n",
       "      <th>6</th>\n",
       "      <td>30 Rock</td>\n",
       "      <td>Tina Fey, Alec Baldwin, Tracy Morgan, Jane Kra...</td>\n",
       "      <td>TV-14</td>\n",
       "      <td>Unknown Date</td>\n",
       "      <td>This smartly crafted sitcom follows Liz Lemon,...</td>\n",
       "      <td>NaN</td>\n",
       "      <td>7 Seasons</td>\n",
       "      <td>22min</td>\n",
       "      <td>Sitcoms, TV Programmes, TV Comedies</td>\n",
       "      <td>0.82</td>\n",
       "      <td>http://www.imdb.com/title/tt0496424/</td>\n",
       "      <td>https://art-s.nflximg.net/8e559/6123a8d7009832...</td>\n",
       "      <td>0.76</td>\n",
       "      <td>2012</td>\n",
       "    </tr>\n",
       "    <tr>\n",
       "      <th>7</th>\n",
       "      <td>3rd Rock from the Sun</td>\n",
       "      <td>John Lithgow, Kristen Johnston, French Stewart...</td>\n",
       "      <td>TV-PG</td>\n",
       "      <td>4th April 2015</td>\n",
       "      <td>A team of aliens is sent to Earth to probe the...</td>\n",
       "      <td>NaN</td>\n",
       "      <td>6 Seasons</td>\n",
       "      <td>22min</td>\n",
       "      <td>Sitcoms, TV Sci-Fi &amp; Fantasy, TV Programmes, A...</td>\n",
       "      <td>0.78</td>\n",
       "      <td>http://www.imdb.com/title/tt0115082/</td>\n",
       "      <td>https://art-s.nflximg.net/fe7b2/46db18b2c633ed...</td>\n",
       "      <td>0.80</td>\n",
       "      <td>2000</td>\n",
       "    </tr>\n",
       "    <tr>\n",
       "      <th>9</th>\n",
       "      <td>3rd World Cops 2</td>\n",
       "      <td>Ariel Levy, Loreto Aravena, Rodrigo Salinas, S...</td>\n",
       "      <td>TV-14</td>\n",
       "      <td>22nd February 2016</td>\n",
       "      <td>Bumbling cops Freire and Salinas, now working ...</td>\n",
       "      <td>Ernesto Díaz Espinoza</td>\n",
       "      <td>1hr 33m</td>\n",
       "      <td>NaN</td>\n",
       "      <td>Spoofs &amp; Satires, Comedies, International Come...</td>\n",
       "      <td>0.00</td>\n",
       "      <td>http://www.imdb.com/title/tt4418280/</td>\n",
       "      <td>https://art-s.nflximg.net/8b9c9/384faf97595e45...</td>\n",
       "      <td>0.56</td>\n",
       "      <td>2015</td>\n",
       "    </tr>\n",
       "    <tr>\n",
       "      <th>16</th>\n",
       "      <td>A Decent Arrangement</td>\n",
       "      <td>Shabana Azmi, Shreya Sharma, Adam Laupus, Adhi...</td>\n",
       "      <td>TV-14</td>\n",
       "      <td>1st July 2016</td>\n",
       "      <td>A listless young Indian-American goes to India...</td>\n",
       "      <td>Sarovar Banka</td>\n",
       "      <td>1hr 37m</td>\n",
       "      <td>NaN</td>\n",
       "      <td>Romantic Comedies, Comedies, International Com...</td>\n",
       "      <td>0.64</td>\n",
       "      <td>http://www.imdb.com/title/tt1704680/</td>\n",
       "      <td>https://art-s.nflximg.net/a521f/515e520fc5eede...</td>\n",
       "      <td>0.52</td>\n",
       "      <td>2011</td>\n",
       "    </tr>\n",
       "  </tbody>\n",
       "</table>\n",
       "</div>"
      ],
      "text/plain": [
       "                     title                                               cast  \\\n",
       "1   12 Dates of Christmas   Amy Smart, Mark-Paul Gosselaar, Jayne Eastwood...   \n",
       "6                 30 Rock   Tina Fey, Alec Baldwin, Tracy Morgan, Jane Kra...   \n",
       "7   3rd Rock from the Sun   John Lithgow, Kristen Johnston, French Stewart...   \n",
       "9        3rd World Cops 2   Ariel Levy, Loreto Aravena, Rodrigo Salinas, S...   \n",
       "16   A Decent Arrangement   Shabana Azmi, Shreya Sharma, Adam Laupus, Adhi...   \n",
       "\n",
       "   certificate                      date added  \\\n",
       "1        TV-PG        Unknown Date               \n",
       "6        TV-14        Unknown Date               \n",
       "7        TV-PG      4th April 2015               \n",
       "9        TV-14  22nd February 2016               \n",
       "16       TV-14       1st July 2016               \n",
       "\n",
       "                                          description               director  \\\n",
       "1   Set up on a blind date with handsome Miles on ...           James Hayman   \n",
       "6   This smartly crafted sitcom follows Liz Lemon,...                    NaN   \n",
       "7   A team of aliens is sent to Earth to probe the...                    NaN   \n",
       "9   Bumbling cops Freire and Salinas, now working ...  Ernesto Díaz Espinoza   \n",
       "16  A listless young Indian-American goes to India...          Sarovar Banka   \n",
       "\n",
       "     duration         episode length  \\\n",
       "1     1hr 26m                    NaN   \n",
       "6   7 Seasons  22min                   \n",
       "7   6 Seasons  22min                   \n",
       "9     1hr 33m                    NaN   \n",
       "16    1hr 37m                    NaN   \n",
       "\n",
       "                                                genre  imdb rating  \\\n",
       "1         Romantic Comedies, Comedies, Romantic Films         0.63   \n",
       "6                 Sitcoms, TV Programmes, TV Comedies         0.82   \n",
       "7   Sitcoms, TV Sci-Fi & Fantasy, TV Programmes, A...         0.78   \n",
       "9   Spoofs & Satires, Comedies, International Come...         0.00   \n",
       "16  Romantic Comedies, Comedies, International Com...         0.64   \n",
       "\n",
       "                                imdb_url  \\\n",
       "1   http://www.imdb.com/title/tt1846442/   \n",
       "6   http://www.imdb.com/title/tt0496424/   \n",
       "7   http://www.imdb.com/title/tt0115082/   \n",
       "9   http://www.imdb.com/title/tt4418280/   \n",
       "16  http://www.imdb.com/title/tt1704680/   \n",
       "\n",
       "                                              img_src  netflix rating  year  \n",
       "1   https://art-s.nflximg.net/1d0c0/af6c7181c603a2...            0.78  2011  \n",
       "6   https://art-s.nflximg.net/8e559/6123a8d7009832...            0.76  2012  \n",
       "7   https://art-s.nflximg.net/fe7b2/46db18b2c633ed...            0.80  2000  \n",
       "9   https://art-s.nflximg.net/8b9c9/384faf97595e45...            0.56  2015  \n",
       "16  https://art-s.nflximg.net/a521f/515e520fc5eede...            0.52  2011  "
      ]
     },
     "execution_count": 216,
     "metadata": {},
     "output_type": "execute_result"
    }
   ],
   "source": [
    "tv.head()"
   ]
  },
  {
   "cell_type": "markdown",
   "metadata": {},
   "source": [
    "### Create graph of cast\n",
    "Goal is to build dataset for push recommender system showing cliques by costars as hubs with popular movies towards the center and less popular towards the fringe"
   ]
  },
  {
   "cell_type": "code",
   "execution_count": 217,
   "metadata": {
    "collapsed": false
   },
   "outputs": [],
   "source": [
    "i=0\n",
    "cast_ids={}\n",
    "def get_people(cast):\n",
    "    global i\n",
    "    people=cast.split(', ')\n",
    "    for p in people:\n",
    "        if p not in cast_ids:\n",
    "            cast_ids[p]=i\n",
    "            i+=1\n",
    "    \n",
    "\n",
    "_=movies['cast'].apply(get_people)"
   ]
  },
  {
   "cell_type": "code",
   "execution_count": 218,
   "metadata": {
    "collapsed": false
   },
   "outputs": [],
   "source": [
    "adj_matrix=np.zeros((i+1,i+1))"
   ]
  },
  {
   "cell_type": "code",
   "execution_count": 219,
   "metadata": {
    "collapsed": false
   },
   "outputs": [],
   "source": [
    "def fill_adj(row):\n",
    "    people=row['cast'].split(', ')\n",
    "    for i in range(len(people)):\n",
    "        for j in range(i+1, len(people)):\n",
    "            idx=cast_ids[people[i]]\n",
    "            jdx=cast_ids[people[j]]\n",
    "            adj_matrix[idx][jdx]+=1.*(row['netflix rating']+row['imdb rating'])/2.\n",
    "            adj_matrix[jdx][idx]+=1*(row['netflix rating']+row['imdb rating'])/2.\n",
    "_=movies.apply(fill_adj, axis=1)"
   ]
  },
  {
   "cell_type": "code",
   "execution_count": 221,
   "metadata": {
    "collapsed": false
   },
   "outputs": [],
   "source": [
    "import networkx as nx"
   ]
  },
  {
   "cell_type": "code",
   "execution_count": 222,
   "metadata": {
    "collapsed": true
   },
   "outputs": [],
   "source": [
    "G=nx.from_numpy_matrix(adj_matrix)"
   ]
  },
  {
   "cell_type": "code",
   "execution_count": 223,
   "metadata": {
    "collapsed": false
   },
   "outputs": [
    {
     "name": "stdout",
     "output_type": "stream",
     "text": [
      "{0, 1, 2, 3, 4, 5, 6, 7, 8, 9, 10, 11, 12, 13, 14, 15, 16, 17, 18, 19, 20, 21, 22, 23, 24, 25, 26, 27, 28, 29, 30, 31, 32, 33, 34, 35, 36, 37, 38, 39, 40, 41, 42, 43, 44, 45, 46, 47, 48, 49, 50, 51, 52, 53, 54, 55, 56, 57, 58, 59, 60, 61, 62, 63, 64, 65, 66, 67, 68, 69, 70, 71, 72, 73, 74, 75, 76, 77, 78, 79, 80, 81, 82, 83, 84, 85, 86, 87, 88, 89, 90, 91, 99, 100, 101, 102, 103, 104, 105, 106, 107, 108, 109, 110, 111, 112, 113, 114, 115, 116, 117, 118, 119, 120, 121, 122, 123, 124, 125, 126, 127, 128, 129, 130, 131, 132, 133, 134, 135, 136, 137, 138, 139, 140, 141, 142, 143, 144, 145, 146, 147, 148, 149, 150, 151, 152, 153, 154, 155, 156, 157, 158, 159, 160, 161, 162, 163, 164, 165, 166, 167, 168, 169, 170, 171, 172, 173, 174, 175, 176, 177, 178, 179, 180, 181, 182, 197, 198, 199, 200, 201, 202, 203, 204, 215, 216, 217, 218, 219, 220, 221, 222, 223, 224, 231, 232, 233, 234, 235, 236, 237, 238, 240, 241, 242, 243, 244, 245, 246, 247, 248, 249, 250, 251, 252, 253, 254, 255, 256, 257, 258, 259, 260, 261, 262, 263, 264, 265, 266, 267, 268, 269, 270, 271, 272, 273, 274, 275, 276, 277, 278, 279, 280, 281, 282, 283, 284, 285, 286, 287, 288, 289, 290, 291, 292, 293, 294, 295, 296, 297, 298, 299, 300, 301, 302, 303, 304, 305, 306, 307, 308, 309, 310, 311, 312, 313, 314, 315, 316, 317, 318, 335, 336, 337, 338, 339, 340, 341, 342, 343, 344, 345, 346, 347, 348, 349, 350, 351, 352, 353, 363, 364, 365, 366, 367, 368, 369, 370, 371, 372, 373, 374, 375, 376, 377, 378, 379, 380, 381, 382, 383, 384, 385, 386, 387, 388, 389, 390, 391, 392, 393, 394, 395, 396, 397, 398, 399, 400, 401, 402, 403, 404, 405, 406, 407, 426, 427, 428, 429, 430, 431, 432, 433, 434, 435, 461, 462, 463, 464, 465, 466, 467, 468, 469, 470, 471, 472, 473, 474, 475, 476, 477, 478, 479, 480, 481, 482, 483, 484, 485, 486, 487, 488, 489, 490, 491, 492, 493, 494, 495, 496, 497, 498, 499, 500, 501, 502, 503, 504, 505, 506, 507, 508, 509, 510, 511, 512, 513, 514, 515, 516, 517, 518, 519, 520, 521, 522, 523, 524, 525, 526, 527, 528, 529, 537, 538, 539, 540, 541, 542, 543, 544, 545, 546, 547, 548, 549, 550, 551, 552, 553, 559, 560, 561, 562, 563, 564, 565, 566, 567, 568, 569, 570, 571, 572, 573, 574, 575, 576, 577, 590, 591, 592, 593, 594, 595, 596, 597, 598, 599, 600, 601, 602, 603, 604, 605, 614, 615, 616, 617, 618, 619, 620, 621, 622, 623, 624, 625, 626, 627, 628, 650, 651, 652, 653, 654, 655, 656, 664, 665, 666, 667, 668, 669, 670, 671, 672, 673, 674, 675, 676, 677, 678, 679, 680, 681, 682, 683, 684, 685, 686, 687, 688, 689, 690, 691, 692, 693, 694, 695, 696, 697, 702, 703, 704, 705, 706, 707, 708, 709, 710, 711, 712, 713, 714, 715, 716, 717, 718, 719, 720, 721, 722, 723, 724, 725, 726, 727, 734, 735, 736, 737, 738, 739, 740, 741, 742, 743, 744, 745, 746, 747, 748, 749, 750, 751, 752, 753, 754, 766, 767, 768, 769, 770, 771, 772, 773, 774, 775, 776, 777, 778, 779, 780, 806, 807, 808, 809, 810, 811, 812, 813, 814, 815, 816, 817, 818, 819, 820, 821, 822, 823, 824, 825, 826, 827, 828, 829, 830, 831, 832, 833, 834, 835, 836, 837, 838, 839, 840, 841, 842, 843, 844, 845, 858, 859, 860, 861, 862, 863, 864, 865, 866, 867, 868, 869, 870, 871, 872, 873, 874, 875, 876, 877, 878, 879, 880, 881, 882, 883, 893, 894, 895, 896, 897, 898, 934, 935, 936, 937, 938, 939, 940, 941, 942, 943, 945, 946, 947, 948, 949, 950, 951, 952, 953, 954, 955, 956, 957, 958, 959, 960, 961, 962, 971, 972, 973, 974, 975, 976, 977, 978, 979, 980, 981, 982, 983, 984, 985, 996, 997, 998, 999, 1000, 1001, 1002, 1003, 1012, 1013, 1014, 1015, 1016, 1017, 1018, 1019, 1047, 1048, 1049, 1050, 1051, 1052, 1053, 1054, 1055, 1056, 1070, 1071, 1072, 1073, 1074, 1075, 1076, 1077, 1078, 1093, 1094, 1095, 1096, 1097, 1098, 1099, 1100, 1101, 1102, 1103, 1104, 1105, 1106, 1107, 1108, 1109, 1110, 1111, 1112, 1113, 1114, 1115, 1116, 1117, 1118, 1119, 1120, 1121, 1122, 1131, 1132, 1133, 1134, 1135, 1136, 1137, 1138, 1139, 1140, 1141, 1142, 1143, 1144, 1145, 1146, 1147, 1148, 1149, 1150, 1151, 1152, 1153, 1154, 1155, 1156, 1157, 1158, 1159, 1160, 1161, 1162, 1163, 1172, 1173, 1174, 1175, 1176, 1177, 1178, 1179, 1180, 1181, 1182, 1183, 1184, 1185, 1186, 1187, 1188, 1189, 1190, 1191, 1192, 1193, 1194, 1195, 1196, 1197, 1198, 1199, 1200, 1201, 1202, 1203, 1204, 1205, 1206, 1207, 1208, 1209, 1210, 1211, 1212, 1213, 1214, 1215, 1216, 1217, 1218, 1219, 1220, 1221, 1222, 1223, 1269, 1270, 1271, 1272, 1273, 1274, 1275, 1286, 1287, 1288, 1289, 1290, 1291, 1292, 1299, 1300, 1301, 1302, 1303, 1304, 1305, 1306, 1315, 1316, 1317, 1318, 1319, 1320, 1321, 1322, 1323, 1324, 1325, 1326, 1327, 1328, 1329, 1330, 1331, 1332, 1333, 1334, 1335, 1336, 1337, 1338, 1339, 1349, 1350, 1351, 1352, 1353, 1354, 1355, 1356, 1357, 1358, 1359, 1360, 1361, 1362, 1363, 1364, 1365, 1366, 1367, 1368, 1369, 1370, 1371, 1372, 1373, 1374, 1375, 1376, 1377, 1378, 1379, 1380, 1381, 1382, 1383, 1384, 1385, 1386, 1387, 1388, 1389, 1390, 1391, 1392, 1393, 1415, 1416, 1417, 1418, 1419, 1420, 1421, 1422, 1423, 1424, 1425, 1426, 1427, 1428, 1429, 1430, 1431, 1432, 1433, 1435, 1436, 1437, 1438, 1439, 1440, 1441, 1442, 1443, 1444, 1460, 1461, 1462, 1463, 1464, 1465, 1466, 1467, 1468, 1469, 1470, 1471, 1472, 1473, 1474, 1475, 1476, 1477, 1478, 1479, 1480, 1481, 1482, 1483, 1484, 1485, 1486, 1487, 1488, 1489, 1490, 1491, 1492, 1493, 1494, 1495, 1496, 1497, 1498, 1499, 1500, 1501, 1502, 1511, 1512, 1513, 1514, 1515, 1516, 1517, 1518, 1519, 1540, 1541, 1542, 1543, 1544, 1545, 1546, 1547, 1548, 1549, 1550, 1551, 1552, 1553, 1554, 1555, 1556, 1557, 1558, 1559, 1560, 1561, 1562, 1563, 1564, 1565, 1566, 1567, 1568, 1569, 1570, 1571, 1572, 1573, 1574, 1575, 1576, 1577, 1586, 1587, 1588, 1589, 1590, 1591, 1592, 1593, 1594, 1595, 1596, 1597, 1598, 1599, 1600, 1601, 1602, 1603, 1604, 1605, 1606, 1607, 1608, 1609, 1610, 1611, 1612, 1613, 1614, 1615, 1616, 1617, 1618, 1619, 1620, 1621, 1622, 1623, 1624, 1625, 1640, 1641, 1642, 1643, 1644, 1645, 1646, 1647, 1648, 1649, 1669, 1670, 1671, 1672, 1673, 1674, 1675, 1676, 1677, 1678, 1679, 1680, 1681, 1682, 1738, 1739, 1740, 1741, 1742, 1743, 1744, 1745, 1747, 1748, 1749, 1750, 1751, 1752, 1753, 1754, 1755, 1756, 1757, 1758, 1759, 1760, 1761, 1762, 1763, 1764, 1765, 1766, 1767, 1768, 1769, 1770, 1771, 1772, 1773, 1774, 1775, 1776, 1777, 1778, 1779, 1780, 1781, 1782, 1783, 1784, 1785, 1786, 1787, 1788, 1789, 1790, 1791, 1795, 1796, 1797, 1798, 1799, 1800, 1801, 1802, 1803, 1805, 1806, 1807, 1808, 1809, 1810, 1811, 1812, 1813, 1814, 1815, 1816, 1817, 1818, 1819, 1820, 1821, 1822, 1823, 1824, 1825, 1826, 1827, 1828, 1829, 1839, 1840, 1841, 1842, 1843, 1844, 1845, 1858, 1859, 1860, 1861, 1862, 1863, 1864, 1865, 1866, 1867, 1868, 1869, 1870, 1871, 1872, 1873, 1874, 1875, 1876, 1877, 1878, 1880, 1881, 1882, 1883, 1884, 1885, 1886, 1887, 1888, 1889, 1890, 1891, 1892, 1893, 1894, 1895, 1896, 1897, 1898, 1907, 1908, 1909, 1910, 1911, 1912, 1913, 1914, 1915, 1916, 1917, 1918, 1919, 1920, 1921, 1922, 1923, 1924, 1925, 1926, 1927, 1928, 1929, 1930, 1931, 1932, 1933, 1934, 1935, 1936, 1937, 1938, 1939, 1940, 1949, 1950, 1951, 1952, 1953, 1954, 1955, 1965, 1966, 1967, 1968, 1969, 1970, 1971, 1972, 1973, 1974, 1975, 1976, 1977, 1987, 1988, 1989, 1990, 2007, 2008, 2009, 2010, 2011, 2020, 2021, 2022, 2023, 2024, 2025, 2026, 2027, 2028, 2029, 2030, 2031, 2032, 2033, 2034, 2035, 2036, 2037, 2038, 2039, 2040, 2041, 2042, 2043, 2044, 2045, 2046, 2047, 2048, 2049, 2050, 2051, 2052, 2053, 2054, 2055, 2056, 2057, 2058, 2060, 2061, 2062, 2063, 2064, 2065, 2066, 2067, 2068, 2069, 2070, 2071, 2072, 2073, 2074, 2075, 2076, 2077, 2078, 2079, 2080, 2081, 2082, 2083, 2084, 2085, 2086, 2087, 2088, 2089, 2090, 2091, 2092, 2093, 2094, 2095, 2096, 2097, 2098, 2099, 2100, 2101, 2102, 2103, 2104, 2105, 2106, 2107, 2108, 2109, 2110, 2111, 2112, 2113, 2114, 2115, 2116, 2117, 2118, 2119, 2120, 2121, 2122, 2123, 2124, 2125, 2126, 2127, 2128, 2129, 2130, 2131, 2132, 2133, 2134, 2135, 2136, 2137, 2138, 2139, 2147, 2148, 2149, 2150, 2151, 2152, 2153, 2154, 2155, 2156, 2157, 2158, 2159, 2160, 2161, 2162, 2163, 2164, 2165, 2166, 2167, 2168, 2176, 2177, 2178, 2179, 2180, 2181, 2182, 2183, 2184, 2185, 2186, 2187, 2188, 2189, 2190, 2191, 2192, 2193, 2194, 2195, 2196, 2197, 2198, 2199, 2200, 2201, 2202, 2211, 2212, 2213, 2214, 2215, 2216, 2217, 2218, 2223, 2224, 2225, 2226, 2227, 2228, 2229, 2230, 2231, 2232, 2233, 2234, 2235, 2236, 2237, 2238, 2239, 2240, 2241, 2242, 2243, 2244, 2245, 2246, 2247, 2248, 2249, 2250, 2251, 2252, 2253, 2254, 2255, 2256, 2257, 2258, 2267, 2268, 2269, 2270, 2271, 2272, 2273, 2274, 2275, 2276, 2277, 2278, 2279, 2280, 2281, 2282, 2283, 2284, 2285, 2286, 2287, 2288, 2289, 2290, 2291, 2292, 2293, 2301, 2302, 2303, 2304, 2305, 2306, 2307, 2308, 2309, 2310, 2311, 2312, 2313, 2314, 2315, 2316, 2317, 2318, 2319, 2320, 2321, 2322, 2323, 2324, 2325, 2326, 2327, 2328, 2337, 2338, 2339, 2340, 2341, 2342, 2343, 2344, 2345, 2346, 2347, 2348, 2349, 2350, 2351, 2352, 2353, 2354, 2355, 2356, 2357, 2358, 2359, 2360, 2361, 2362, 2363, 2364, 2365, 2366, 2367, 2368, 2369, 2370, 2371, 2372, 2373, 2374, 2375, 2376, 2377, 2378, 2379, 2380, 2381, 2382, 2383, 2384, 2385, 2386, 2387, 2388, 2389, 2390, 2391, 2392, 2393, 2394, 2395, 2396, 2397, 2398, 2399, 2400, 2401, 2410, 2411, 2412, 2413, 2414, 2415, 2416, 2417, 2418, 2419, 2420, 2447, 2448, 2449, 2450, 2451, 2452, 2453, 2454, 2455, 2473, 2474, 2475, 2476, 2477, 2478, 2479, 2484, 2485, 2486, 2487, 2488, 2489, 2490, 2491, 2492, 2493, 2494, 2495, 2496, 2497, 2498, 2517, 2518, 2519, 2529, 2530, 2531, 2532, 2533, 2534, 2535, 2536, 2537, 2538, 2539, 2540, 2541, 2542, 2543, 2544, 2545, 2546, 2547, 2555, 2556, 2557, 2558, 2559, 2560, 2561, 2562, 2563, 2564, 2565, 2566, 2567, 2568, 2569, 2570, 2571, 2582, 2583, 2584, 2585, 2586, 2587, 2588, 2589, 2600, 2601, 2602, 2603, 2604, 2605, 2606, 2607, 2625, 2626, 2627, 2628, 2629, 2630, 2631, 2632, 2633, 2634, 2635, 2636, 2637, 2638, 2639, 2640, 2641, 2642, 2643, 2644, 2645, 2646, 2647, 2648, 2649, 2650, 2651, 2652, 2653, 2654, 2655, 2656, 2657, 2658, 2659, 2660, 2661, 2662, 2663, 2664, 2665, 2666, 2667, 2678, 2679, 2680, 2681, 2682, 2683, 2684, 2685, 2686, 2687, 2688, 2689, 2690, 2691, 2692, 2693, 2694, 2695, 2696, 2697, 2698, 2699, 2700, 2701, 2702, 2703, 2704, 2705, 2706, 2707, 2708, 2709, 2710, 2711, 2735, 2736, 2737, 2738, 2739, 2740, 2741, 2742, 2743, 2744, 2745, 2746, 2747, 2748, 2749, 2750, 2751, 2752, 2753, 2754, 2755, 2756, 2757, 2758, 2759, 2760, 2761, 2762, 2763, 2764, 2765, 2766, 2767, 2768, 2769, 2770, 2771, 2772, 2773, 2774, 2775, 2776, 2777, 2778, 2779, 2780, 2781, 2782, 2783, 2784, 2787, 2788, 2789, 2790, 2791, 2792, 2793, 2794, 2795, 2796, 2797, 2798, 2799, 2800, 2801, 2810, 2811, 2812, 2813, 2814, 2815, 2816, 2817, 2818, 2819, 2820, 2821, 2822, 2823, 2824, 2825, 2826, 2827, 2833, 2834, 2835, 2836, 2837, 2838, 2839, 2840, 2841, 2842, 2843, 2844, 2845, 2846, 2847, 2848, 2849, 2850, 2851, 2852, 2853, 2854, 2855, 2856, 2857, 2858, 2859, 2860, 2861, 2862, 2863, 2864, 2865, 2866, 2867, 2868, 2869, 2870, 2871, 2872, 2873, 2874, 2875, 2876, 2877, 2878, 2879, 2880, 2881, 2882, 2883, 2884, 2885, 2886, 2887, 2888, 2889, 2890, 2891, 2892, 2893, 2894, 2895, 2896, 2897, 2898, 2899, 2900, 2901, 2902, 2903, 2904, 2905, 2906, 2907, 2908, 2909, 2910, 2911, 2912, 2913, 2914, 2915, 2916, 2917, 2918, 2929, 2930, 2931, 2932, 2933, 2934, 2935, 2936, 2937, 2938, 2939, 2940, 2941, 2942, 2957, 2958, 2959, 2960, 2962, 2963, 2964, 2965, 2966, 2967, 2968, 2969, 2980, 2981, 2982, 2983, 2984, 2985, 2997, 2998, 2999, 3000, 3001, 3002, 3003, 3004, 3017, 3018, 3019, 3020, 3021, 3022, 3023, 3024, 3025, 3026, 3027, 3028, 3029, 3030, 3031, 3032, 3033, 3034, 3035, 3036, 3037, 3038, 3039, 3040, 3041, 3042, 3043, 3044, 3045, 3046, 3047, 3048, 3049, 3050, 3051, 3052, 3053, 3054, 3055, 3056, 3057, 3058, 3059, 3066, 3067, 3068, 3069, 3070, 3071, 3072, 3073, 3074, 3075, 3076, 3077, 3078, 3079, 3080, 3081, 3082, 3083, 3084, 3085, 3086, 3087, 3088, 3089, 3099, 3100, 3101, 3102, 3103, 3104, 3105, 3106, 3107, 3108, 3109, 3110, 3111, 3112, 3113, 3114, 3115, 3116, 3117, 3118, 3119, 3120, 3121, 3122, 3123, 3124, 3125, 3126, 3127, 3128, 3129, 3130, 3131, 3132, 3143, 3144, 3145, 3146, 3147, 3148, 3149, 3150, 3151, 3160, 3161, 3162, 3163, 3164, 3165, 3166, 3167, 3168, 3169, 3170, 3171, 3172, 3180, 3181, 3182, 3183, 3184, 3185, 3186, 3187, 3188, 3189, 3190, 3191, 3192, 3193, 3194, 3195, 3196, 3197, 3198, 3199, 3200, 3201, 3202, 3203, 3204, 3205, 3206, 3246, 3247, 3248, 3249, 3250, 3251, 3252, 3253, 3254, 3255, 3256, 3257, 3258, 3269, 3270, 3271, 3272, 3273, 3274, 3275, 3276, 3277, 3278, 3279, 3280, 3281, 3282, 3283, 3284, 3285, 3286, 3287, 3288, 3289, 3290, 3291, 3292, 3293, 3294, 3295, 3296, 3297, 3298, 3299, 3300, 3301, 3302, 3308, 3309, 3310, 3311, 3312, 3313, 3314, 3315, 3316, 3317, 3322, 3323, 3324, 3325, 3326, 3327, 3328, 3329, 3330, 3331, 3332, 3342, 3343, 3344, 3345, 3346, 3347, 3348, 3349, 3350, 3351, 3352, 3353, 3354, 3355, 3356, 3363, 3364, 3365, 3366, 3367, 3378, 3379, 3380, 3381, 3382, 3383, 3384, 3385, 3386, 3387, 3388, 3389, 3390, 3391, 3392, 3403, 3404, 3405, 3406, 3407, 3408, 3409, 3410, 3411, 3412, 3413, 3414, 3415, 3425, 3426, 3427, 3428, 3429, 3438, 3439, 3440, 3441, 3442, 3449, 3450, 3451, 3467, 3468, 3469, 3470, 3471, 3472, 3473, 3474, 3475, 3476, 3477, 3478, 3479}\n",
      "{583, 584, 585, 586, 587, 588, 589, 92, 93, 94, 95, 96, 97, 98, 635, 629, 630, 631, 632, 633, 634, 1659, 636, 637, 638, 1660, 1664, 1665, 1666, 1667, 1668, 1661, 1662, 1663, 2175, 2169, 2170, 3240, 3241, 3242, 3243, 3244, 3245, 2171, 2172, 2173, 2174, 1232, 1233, 1234, 1235, 1236, 1237, 1238, 2294, 2295, 2296, 2297, 2298, 2299, 2300, 2953, 2954, 2955, 2956, 915, 916, 917, 918, 919, 920, 921, 922, 923, 924, 925, 926, 927, 928, 929, 930, 931, 2468, 932, 2467, 933, 2466, 2464, 2465, 2548, 2549, 2550, 2551, 2552, 2553, 2554}\n",
      "{184, 185, 186, 187, 183}\n",
      "{192, 193, 194, 195, 196, 188, 189, 190, 191}\n",
      "{205, 206, 207, 208, 209, 210, 211, 212, 213, 214}\n",
      "{225, 226, 227, 228, 229, 230}\n",
      "{320, 321, 322, 323, 324, 325, 319}\n",
      "{326, 327, 328, 329, 330, 331, 332, 333, 334}\n",
      "{1711, 1712, 1713, 1714, 1715, 1716, 1717, 1718, 1719, 1720, 1721, 1722, 1723, 1724, 1725, 1726, 1727, 1728, 354, 355, 356, 357, 358, 359, 360, 361, 362}\n",
      "{1857, 408, 409, 410, 411, 412, 413, 414, 415, 1846, 1847, 1848, 1849, 1850, 1978, 1851, 1979, 1980, 1981, 1984, 1985, 1986, 963, 964, 965, 966, 967, 968, 969, 970, 1999, 2000, 2001, 2002, 2003, 2004, 2005, 2006, 1983, 1852, 1856, 1853, 1854, 1982, 2421, 2422, 2423, 2424, 2425, 2426, 2427, 2428, 1855}\n",
      "{416, 417, 418, 419, 420, 421, 422, 423, 424, 425, 554, 555, 556, 557, 558}\n",
      "{2944, 2432, 2433, 2434, 2435, 2436, 2945, 2946, 2947, 2948, 2949, 2950, 2951, 2952, 436, 437, 438, 439, 440, 441, 442, 443, 444, 2943, 3318, 3319, 3320, 3321, 2429, 2430, 2431}\n",
      "{448, 449, 450, 451, 452, 453, 454, 455, 456, 457, 458, 459, 460, 445, 446, 447}\n",
      "{530, 531, 532, 533, 534, 535, 536}\n",
      "{578, 579, 580, 581, 582}\n",
      "{608, 609, 610, 611, 612, 613, 606, 607}\n",
      "{640, 641, 642, 643, 644, 645, 646, 647, 648, 649}\n",
      "{657, 658, 659, 660, 661, 662, 663}\n",
      "{3424, 1830, 1831, 1832, 1833, 1834, 1835, 1836, 3418, 1837, 1838, 3421, 3419, 3420, 698, 699, 700, 701, 3422, 3423}\n",
      "{728, 729, 730, 731, 732, 733}\n",
      "{756, 757, 758, 759, 760, 761, 762, 763, 764, 765}\n",
      "{781, 782, 783, 784, 785, 786, 787, 788}\n",
      "{789, 790, 791, 792, 793, 794, 795, 796, 797, 798}\n",
      "{2572, 2573, 2574, 2575, 2576, 2577, 2578, 1683, 1684, 2579, 2580, 2581, 2329, 2330, 2331, 2332, 2333, 2334, 799, 800, 801, 802, 803, 804, 805, 1061, 1062, 1057, 1063, 1058, 1059, 1060, 2335, 2336}\n",
      "{846, 847, 848, 849, 850, 851, 852, 853, 854, 855, 856, 857}\n",
      "{884, 885, 886, 887, 888, 889, 890, 891, 892}\n",
      "{899, 900, 901, 902, 903, 904, 905, 906, 907, 908, 909}\n",
      "{1034, 1035, 1036, 1037, 1038, 910, 911, 912, 913, 914, 1040, 3218, 1041, 3222, 3217, 3219, 3220, 3221, 3223, 3215, 3216, 1039}\n",
      "{992, 993, 994, 995, 986, 987, 988, 989, 990, 991}\n",
      "{1004, 1005, 1006, 1007, 1008, 1009, 1010, 1011}\n",
      "{1024, 1025, 1026, 1027, 1028, 1029, 1030, 1031, 1020, 1021, 1022, 1023}\n",
      "{1032, 1033}\n",
      "{1042, 1043, 1044, 1045, 1046}\n",
      "{1064, 1065, 1066, 1067, 1068, 1069}\n",
      "{1079, 1080, 1081, 1082, 1083, 1084, 1085, 1086}\n",
      "{1088, 1089, 1090, 1091, 1092, 1087}\n",
      "{1123, 1124, 1125, 1126, 1127, 1128, 1129, 1130, 2259, 2260, 2261, 2262, 2263, 2264, 2265, 2266}\n",
      "{1164, 1165, 1166, 1167, 1168, 1169, 1170, 1171}\n",
      "{1224, 1225, 1226, 1227, 1228, 1229, 1230, 1231}\n",
      "{1248, 1249, 2919, 2920, 2921, 2922, 2923, 2924, 2925, 2926, 2927, 2928, 1239, 1240, 1241, 1242, 1243, 1244, 1245, 1246, 1247}\n",
      "{1250, 1251, 1252, 1253, 1254, 1255, 1256, 1257, 1258, 1259, 2480, 2481, 2482, 2483}\n",
      "{1260, 1261, 1262, 1263, 1264, 1265, 1266, 1267, 1268}\n",
      "{1280, 1281, 1282, 1283, 1284, 1285, 1276, 1277, 1278, 1279}\n",
      "{1293, 1294, 1295, 1296, 1297, 1298}\n",
      "{1312, 1313, 1314, 1307, 1308, 1309, 1310, 1311}\n",
      "{1344, 1345, 1346, 1347, 1348, 3393, 3397, 3398, 3399, 3400, 3401, 3402, 3395, 3396, 3394, 1340, 1341, 1342, 1343}\n",
      "{1394, 1395, 1396, 1397, 1398, 1399, 1400, 1401, 1402, 1403, 1404, 1405, 1406}\n",
      "{1408, 1409, 1410, 1411, 1412, 1413, 1414, 1407}\n",
      "{1445, 1446, 1447, 1448, 1449, 1450, 1451, 1452, 1453}\n",
      "{1454, 1455, 1456, 1457, 1458, 1459}\n",
      "{1504, 1505, 1506, 1507, 1508, 1509, 1510, 1503}\n",
      "{1520, 1521, 1522, 1523, 1524, 1525, 1526}\n",
      "{1527, 1528, 1529, 1530, 1531, 1532, 1533}\n",
      "{1536, 1537, 1538, 1539, 3236, 3237, 3238, 3233, 3232, 3234, 3235, 3239, 2510, 2511, 2512, 2513, 2514, 2515, 2516, 1534, 1535}\n",
      "{1579, 1580, 1581, 1582, 1583, 1584, 1585}\n",
      "{1632, 1633, 1634, 1635, 1636, 1637, 1638, 1639, 1626, 1627, 1628, 1629, 1630, 1631}\n",
      "{1650, 1651, 1652, 1653, 1654, 1655, 1656, 1657, 1658}\n",
      "{2615, 2616, 2617, 2608, 2609, 2610, 2611, 2612, 1685, 1686, 1687, 1688, 1689, 1690, 1691, 1692, 1693, 2613, 2614}\n",
      "{1696, 1697, 1698, 1699, 1700, 1701, 1702, 1703, 1694, 1695}\n",
      "{1705, 1706, 1707, 1708, 1709, 1710}\n",
      "{1729, 1730, 1731, 1732, 1733, 1734, 1735, 1736, 1737}\n",
      "{1899, 1900, 1901, 1902, 1903, 1904, 1905, 1906}\n",
      "{1941, 1942, 1943, 1944, 1945, 1946, 1947, 1948}\n",
      "{1956, 1957, 1958, 1959, 1960, 1961, 1962, 1963, 1964}\n",
      "{1991, 1992, 1993, 1994, 1995, 1996, 1997, 1998}\n",
      "{2016, 2017, 2018, 2019, 2012, 2013, 2014, 2015}\n",
      "{2622, 3134, 2618, 2619, 2620, 2621, 3133, 3135, 2624, 3137, 3138, 3139, 3140, 3141, 3142, 3136, 2623, 2140, 2141, 2142, 2143, 2144, 2145, 2146, 2668, 2669, 2670, 2671, 2672, 2673, 2674, 2675, 2676, 2677}\n",
      "{2208, 2209, 2210, 2203, 2204, 2205, 2206, 2207}\n",
      "{2219, 2220, 2221, 2222}\n",
      "{2402, 2403, 2404, 2405, 2406, 2407, 2408, 2409}\n",
      "{2437, 2438, 2439, 2440, 2441, 2442, 2443, 2444, 2445, 2446}\n",
      "{2456, 2457, 2458, 2459, 2460, 2461, 2462, 2463}\n",
      "{2472, 2469, 2470, 2471}\n",
      "{2500, 2501, 2502, 2503, 2504, 2505, 2506, 2507, 2508, 2509}\n",
      "{2528, 2520, 2521, 2522, 2523, 2524, 2525, 2526, 2527}\n",
      "{2592, 2593, 2594, 2595, 2596, 2597, 2598, 2599, 2590, 2591}\n",
      "{2720, 2721, 2722, 2723, 2724, 2712, 2713, 2714, 2715, 2716, 2717, 2718, 2719}\n",
      "{2725, 2726, 2727, 2728, 2729, 2730, 2731, 2732, 2733, 2734}\n",
      "{2785, 2786, 3173, 3174, 3175, 3176, 3177, 3178, 3179}\n",
      "{2802, 2803, 2804, 2805, 2806, 2807, 2808, 2809}\n",
      "{2832, 2828, 2829, 2830, 2831}\n",
      "{2976, 2977, 2978, 2979, 2970, 2971, 2972, 2973, 2974, 2975}\n",
      "{2987, 2988, 2989, 2990, 2991, 2992, 2993, 2994, 2995, 2996}\n",
      "{3008, 3009, 3010, 3011, 3012, 3013, 3014, 3015, 3016, 3005, 3006, 3007}\n",
      "{3060, 3061, 3062, 3063, 3064, 3065}\n",
      "{3090, 3091, 3092, 3093, 3094, 3095, 3096, 3097, 3098}\n",
      "{3152, 3153, 3154, 3155, 3156, 3157, 3158, 3159}\n",
      "{3207, 3208, 3209, 3210, 3211, 3212, 3213, 3214}\n",
      "{3224, 3225, 3226, 3227, 3228, 3229, 3230, 3231}\n",
      "{3264, 3265, 3266, 3267, 3268, 3259, 3260, 3261, 3262, 3263}\n",
      "{3304, 3305, 3306, 3307, 3303}\n",
      "{3333, 3334, 3335, 3336, 3337, 3338, 3339, 3340, 3341}\n",
      "{3360, 3361, 3362, 3357, 3358, 3359}\n",
      "{3368, 3369, 3370, 3371, 3372, 3373, 3374, 3375, 3376, 3377}\n",
      "{3416, 3417}\n",
      "{3430, 3431, 3432, 3433, 3434, 3435, 3436, 3437}\n",
      "{3443, 3444, 3445, 3446, 3447, 3448}\n",
      "{3456, 3457, 3458, 3459, 3460, 3452, 3453, 3454, 3455}\n",
      "{3461, 3462, 3463, 3464, 3465, 3466}\n"
     ]
    }
   ],
   "source": [
    "for conn in nx.connected_components(G):\n",
    "    if len(conn)>1:\n",
    "        print(conn)"
   ]
  },
  {
   "cell_type": "code",
   "execution_count": 224,
   "metadata": {
    "collapsed": false
   },
   "outputs": [],
   "source": [
    "def get_names(ids):\n",
    "    _str=''\n",
    "    for name, age in cast_ids.items():\n",
    "        if age in ids:\n",
    "            _str+=name+', '\n",
    "    print(_str)"
   ]
  },
  {
   "cell_type": "code",
   "execution_count": 225,
   "metadata": {
    "collapsed": false,
    "scrolled": false
   },
   "outputs": [
    {
     "name": "stdout",
     "output_type": "stream",
     "text": [
      "Dylan Sprouse, Rob Schneider, Jon Lovitz, Cole Sprouse, Kevin Nealon, Norm Crosby, Adam Sandler, Jackie Sandler, Tyra Banks, Austin Stout, \n",
      "Rob Schneider, Dan Aykroyd, Sean Astin, Lusia Strus, Maya Rudolph, Blake Clark, Drew Barrymore, Allen Covert, Adam Sandler, Amy Hill, \n"
     ]
    }
   ],
   "source": [
    "for c in nx.cliques_containing_node(G, nodes=cast_ids['Adam Sandler']):\n",
    "    get_names(c)\n",
    "    "
   ]
  },
  {
   "cell_type": "markdown",
   "metadata": {},
   "source": [
    "### Above is good enough to get started"
   ]
  },
  {
   "cell_type": "code",
   "execution_count": 202,
   "metadata": {
    "collapsed": false
   },
   "outputs": [],
   "source": [
    "pr=nx.pagerank(G,alpha=1.)"
   ]
  },
  {
   "cell_type": "code",
   "execution_count": 205,
   "metadata": {
    "collapsed": false
   },
   "outputs": [
    {
     "data": {
      "text/plain": [
       "(3665, 5.337006745314655e-29)"
      ]
     },
     "execution_count": 205,
     "metadata": {},
     "output_type": "execute_result"
    }
   ],
   "source": [
    "import operator\n",
    "sorted(pr.items(), key=lambda x:-x[1])[-1]"
   ]
  },
  {
   "cell_type": "code",
   "execution_count": 204,
   "metadata": {
    "collapsed": false
   },
   "outputs": [
    {
     "name": "stdout",
     "output_type": "stream",
     "text": [
      "Theresa Randle, Charles Fleischer, Josh Kelly, \n"
     ]
    }
   ],
   "source": [
    "get_names([247, 288, 1533])"
   ]
  },
  {
   "cell_type": "code",
   "execution_count": 98,
   "metadata": {
    "collapsed": false
   },
   "outputs": [
    {
     "data": {
      "text/plain": [
       "array([ -6.94580117e-14,  -6.92777215e-14,  -6.36359287e-14, ...,\n",
       "         5.04256752e+01,   5.35313546e+01,   5.66179133e+01])"
      ]
     },
     "execution_count": 98,
     "metadata": {},
     "output_type": "execute_result"
    }
   ],
   "source": [
    "nx.laplacian_spectrum(G)"
   ]
  },
  {
   "cell_type": "code",
   "execution_count": 220,
   "metadata": {
    "collapsed": false
   },
   "outputs": [],
   "source": [
    "from sklearn import cluster"
   ]
  },
  {
   "cell_type": "code",
   "execution_count": 144,
   "metadata": {
    "collapsed": false
   },
   "outputs": [
    {
     "name": "stderr",
     "output_type": "stream",
     "text": [
      "C:\\Users\\Roger\\Anaconda2\\envs\\py3\\lib\\site-packages\\sklearn\\cluster\\spectral.py:425: UserWarning: The spectral clustering API has changed. ``fit``now constructs an affinity matrix from data. To use a custom affinity matrix, set ``affinity=precomputed``.\n",
      "  warnings.warn(\"The spectral clustering API has changed. ``fit``\"\n",
      "C:\\Users\\Roger\\Anaconda2\\envs\\py3\\lib\\site-packages\\sklearn\\manifold\\spectral_embedding_.py:217: UserWarning: Graph is not fully connected, spectral embedding may not work as expected.\n",
      "  warnings.warn(\"Graph is not fully connected, spectral embedding\"\n"
     ]
    }
   ],
   "source": [
    "spectral = cluster.SpectralClustering(n_clusters=2,\n",
    "                                      eigen_solver='arpack',\n",
    "                                      affinity=\"nearest_neighbors\")\n",
    "fit=spectral.fit_predict(adj_matrix)"
   ]
  }
 ],
 "metadata": {
  "kernelspec": {
   "display_name": "Python 3",
   "language": "python",
   "name": "python3"
  },
  "language_info": {
   "codemirror_mode": {
    "name": "ipython",
    "version": 3
   },
   "file_extension": ".py",
   "mimetype": "text/x-python",
   "name": "python",
   "nbconvert_exporter": "python",
   "pygments_lexer": "ipython3",
   "version": "3.5.2"
  }
 },
 "nbformat": 4,
 "nbformat_minor": 0
}
